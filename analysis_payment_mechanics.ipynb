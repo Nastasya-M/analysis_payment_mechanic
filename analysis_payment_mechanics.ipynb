{
 "cells": [
  {
   "cell_type": "markdown",
   "metadata": {},
   "source": [
    "## Проект"
   ]
  },
  {
   "cell_type": "markdown",
   "metadata": {},
   "source": [
    "### 1. A/B–тестирование\n",
    "\n",
    "#### 1.1 Условие\n",
    "\n",
    "Задачей аналитика в команде является корректное проведение экспериментов. Для этого применяется метод A/B–тестирования. В ходе тестирования одной гипотезы целевой группе была предложена новая механика оплаты услуг на сайте, у контрольной группы оставалась базовая механика. Необходимо проанализировать итоги эксперимента и сделать вывод, стоит ли запускать новую механику оплаты на всех пользователей.\n",
    "\n",
    "#### 1.2 Входные данные\n",
    "\n",
    "В качестве входных данных вы имеете 4 csv-файла:\n",
    "* groups.csv – файл с информацией о принадлежности пользователя к контрольной или экспериментальной группе (А – контроль, B – целевая группа) \n",
    "* groups_add.csv – дополнительный файл с пользователями, который вам прислали спустя 2 дня после передачи данных\n",
    "* active_studs.csv – файл с информацией о пользователях, которые зашли на платформу в дни проведения эксперимента. \n",
    "* checks.csv – файл с информацией об оплатах пользователей в дни проведения эксперимента.\n",
    "\n"
    ]
  },
  {
   "cell_type": "code",
   "execution_count": 187,
   "metadata": {},
   "outputs": [],
   "source": [
    "import json\n",
    "from urllib.parse import urlencode\n",
    "\n",
    "import matplotlib.pyplot as plt\n",
    "import pandas as pd\n",
    "import pingouin as pg\n",
    "import requests\n",
    "import seaborn as sns\n",
    "from scipy.stats import chi2, chi2_contingency"
   ]
  },
  {
   "cell_type": "code",
   "execution_count": 188,
   "metadata": {},
   "outputs": [],
   "source": [
    "# Зададим параметры для визуализации графиков по умолчанию\n",
    "sns.set(\n",
    "    font_scale=1,\n",
    "    style=\"whitegrid\",\n",
    "    rc={'figure.figsize':(15,7)}\n",
    ")"
   ]
  },
  {
   "cell_type": "code",
   "execution_count": 189,
   "metadata": {},
   "outputs": [],
   "source": [
    "base_url = 'https://cloud-api.yandex.net/v1/disk/public/resources/download?'\n",
    "url_groups = 'https://disk.yandex.ru/d/UhyYx41rTt3clQ'\n",
    "url_active_studs = 'https://disk.yandex.ru/d/Tbs44Bm6H_FwFQ'\n",
    "url_checks = 'https://disk.yandex.ru/d/pH1q-VqcxXjsVA'\n",
    "url_groups_add = 'https://disk.yandex.ru/d/5Kxrz02m3IBUwQ'\n"
   ]
  },
  {
   "cell_type": "code",
   "execution_count": 190,
   "metadata": {},
   "outputs": [],
   "source": [
    "# Функция для загрузки файла c Яндекс Диска без авторизации (при наличии публичных ссылок на папку и файл)\n",
    "def download_file(url):\n",
    "    final_url = base_url + urlencode({'public_key': url})\n",
    "    response = requests.get(final_url)\n",
    "    # Получаем загрузочную ссылку\n",
    "    download_url = json.loads(response.text)['href']\n",
    "    return download_url\n"
   ]
  },
  {
   "cell_type": "code",
   "execution_count": 191,
   "metadata": {},
   "outputs": [],
   "source": [
    "# Загружаем файлы\n",
    "groups = pd.read_csv(download_file(url_groups), sep=';')\n",
    "active_studs = pd.read_csv(download_file(url_active_studs), sep=';')\n",
    "checks = pd.read_csv(download_file(url_checks), sep=';')\n",
    "groups_add = pd.read_csv(download_file(url_groups_add), sep=',')"
   ]
  },
  {
   "cell_type": "markdown",
   "metadata": {},
   "source": [
    "Рассмотрим данные: размер датасетов, наличие пропусков и дублей, типы данных и количество уникальных значений."
   ]
  },
  {
   "cell_type": "code",
   "execution_count": 192,
   "metadata": {},
   "outputs": [
    {
     "data": {
      "text/html": [
       "<div>\n",
       "<style scoped>\n",
       "    .dataframe tbody tr th:only-of-type {\n",
       "        vertical-align: middle;\n",
       "    }\n",
       "\n",
       "    .dataframe tbody tr th {\n",
       "        vertical-align: top;\n",
       "    }\n",
       "\n",
       "    .dataframe thead th {\n",
       "        text-align: right;\n",
       "    }\n",
       "</style>\n",
       "<table border=\"1\" class=\"dataframe\">\n",
       "  <thead>\n",
       "    <tr style=\"text-align: right;\">\n",
       "      <th></th>\n",
       "      <th>id</th>\n",
       "      <th>grp</th>\n",
       "    </tr>\n",
       "  </thead>\n",
       "  <tbody>\n",
       "    <tr>\n",
       "      <th>0</th>\n",
       "      <td>1489</td>\n",
       "      <td>B</td>\n",
       "    </tr>\n",
       "    <tr>\n",
       "      <th>1</th>\n",
       "      <td>1627</td>\n",
       "      <td>A</td>\n",
       "    </tr>\n",
       "    <tr>\n",
       "      <th>2</th>\n",
       "      <td>1768</td>\n",
       "      <td>B</td>\n",
       "    </tr>\n",
       "    <tr>\n",
       "      <th>3</th>\n",
       "      <td>1783</td>\n",
       "      <td>B</td>\n",
       "    </tr>\n",
       "    <tr>\n",
       "      <th>4</th>\n",
       "      <td>1794</td>\n",
       "      <td>A</td>\n",
       "    </tr>\n",
       "  </tbody>\n",
       "</table>\n",
       "</div>"
      ],
      "text/plain": [
       "     id grp\n",
       "0  1489   B\n",
       "1  1627   A\n",
       "2  1768   B\n",
       "3  1783   B\n",
       "4  1794   A"
      ]
     },
     "execution_count": 192,
     "metadata": {},
     "output_type": "execute_result"
    }
   ],
   "source": [
    "groups.head()"
   ]
  },
  {
   "cell_type": "code",
   "execution_count": 193,
   "metadata": {},
   "outputs": [
    {
     "data": {
      "text/html": [
       "<div>\n",
       "<style scoped>\n",
       "    .dataframe tbody tr th:only-of-type {\n",
       "        vertical-align: middle;\n",
       "    }\n",
       "\n",
       "    .dataframe tbody tr th {\n",
       "        vertical-align: top;\n",
       "    }\n",
       "\n",
       "    .dataframe thead th {\n",
       "        text-align: right;\n",
       "    }\n",
       "</style>\n",
       "<table border=\"1\" class=\"dataframe\">\n",
       "  <thead>\n",
       "    <tr style=\"text-align: right;\">\n",
       "      <th></th>\n",
       "      <th>id</th>\n",
       "      <th>grp</th>\n",
       "    </tr>\n",
       "  </thead>\n",
       "  <tbody>\n",
       "    <tr>\n",
       "      <th>0</th>\n",
       "      <td>5694584</td>\n",
       "      <td>B</td>\n",
       "    </tr>\n",
       "    <tr>\n",
       "      <th>1</th>\n",
       "      <td>5694830</td>\n",
       "      <td>B</td>\n",
       "    </tr>\n",
       "    <tr>\n",
       "      <th>2</th>\n",
       "      <td>5695057</td>\n",
       "      <td>B</td>\n",
       "    </tr>\n",
       "    <tr>\n",
       "      <th>3</th>\n",
       "      <td>5698872</td>\n",
       "      <td>B</td>\n",
       "    </tr>\n",
       "    <tr>\n",
       "      <th>4</th>\n",
       "      <td>5699067</td>\n",
       "      <td>B</td>\n",
       "    </tr>\n",
       "  </tbody>\n",
       "</table>\n",
       "</div>"
      ],
      "text/plain": [
       "        id grp\n",
       "0  5694584   B\n",
       "1  5694830   B\n",
       "2  5695057   B\n",
       "3  5698872   B\n",
       "4  5699067   B"
      ]
     },
     "execution_count": 193,
     "metadata": {},
     "output_type": "execute_result"
    }
   ],
   "source": [
    "groups_add.head()"
   ]
  },
  {
   "cell_type": "code",
   "execution_count": 194,
   "metadata": {},
   "outputs": [
    {
     "data": {
      "text/html": [
       "<div>\n",
       "<style scoped>\n",
       "    .dataframe tbody tr th:only-of-type {\n",
       "        vertical-align: middle;\n",
       "    }\n",
       "\n",
       "    .dataframe tbody tr th {\n",
       "        vertical-align: top;\n",
       "    }\n",
       "\n",
       "    .dataframe thead th {\n",
       "        text-align: right;\n",
       "    }\n",
       "</style>\n",
       "<table border=\"1\" class=\"dataframe\">\n",
       "  <thead>\n",
       "    <tr style=\"text-align: right;\">\n",
       "      <th></th>\n",
       "      <th>student_id</th>\n",
       "    </tr>\n",
       "  </thead>\n",
       "  <tbody>\n",
       "    <tr>\n",
       "      <th>0</th>\n",
       "      <td>581585</td>\n",
       "    </tr>\n",
       "    <tr>\n",
       "      <th>1</th>\n",
       "      <td>5723133</td>\n",
       "    </tr>\n",
       "    <tr>\n",
       "      <th>2</th>\n",
       "      <td>3276743</td>\n",
       "    </tr>\n",
       "    <tr>\n",
       "      <th>3</th>\n",
       "      <td>4238589</td>\n",
       "    </tr>\n",
       "    <tr>\n",
       "      <th>4</th>\n",
       "      <td>4475369</td>\n",
       "    </tr>\n",
       "  </tbody>\n",
       "</table>\n",
       "</div>"
      ],
      "text/plain": [
       "   student_id\n",
       "0      581585\n",
       "1     5723133\n",
       "2     3276743\n",
       "3     4238589\n",
       "4     4475369"
      ]
     },
     "execution_count": 194,
     "metadata": {},
     "output_type": "execute_result"
    }
   ],
   "source": [
    "active_studs.head()"
   ]
  },
  {
   "cell_type": "code",
   "execution_count": 195,
   "metadata": {},
   "outputs": [
    {
     "data": {
      "text/html": [
       "<div>\n",
       "<style scoped>\n",
       "    .dataframe tbody tr th:only-of-type {\n",
       "        vertical-align: middle;\n",
       "    }\n",
       "\n",
       "    .dataframe tbody tr th {\n",
       "        vertical-align: top;\n",
       "    }\n",
       "\n",
       "    .dataframe thead th {\n",
       "        text-align: right;\n",
       "    }\n",
       "</style>\n",
       "<table border=\"1\" class=\"dataframe\">\n",
       "  <thead>\n",
       "    <tr style=\"text-align: right;\">\n",
       "      <th></th>\n",
       "      <th>student_id</th>\n",
       "      <th>rev</th>\n",
       "    </tr>\n",
       "  </thead>\n",
       "  <tbody>\n",
       "    <tr>\n",
       "      <th>0</th>\n",
       "      <td>1627</td>\n",
       "      <td>990.0</td>\n",
       "    </tr>\n",
       "    <tr>\n",
       "      <th>1</th>\n",
       "      <td>3185</td>\n",
       "      <td>690.0</td>\n",
       "    </tr>\n",
       "    <tr>\n",
       "      <th>2</th>\n",
       "      <td>25973</td>\n",
       "      <td>690.0</td>\n",
       "    </tr>\n",
       "    <tr>\n",
       "      <th>3</th>\n",
       "      <td>26280</td>\n",
       "      <td>690.0</td>\n",
       "    </tr>\n",
       "    <tr>\n",
       "      <th>4</th>\n",
       "      <td>100300</td>\n",
       "      <td>990.0</td>\n",
       "    </tr>\n",
       "  </tbody>\n",
       "</table>\n",
       "</div>"
      ],
      "text/plain": [
       "   student_id    rev\n",
       "0        1627  990.0\n",
       "1        3185  690.0\n",
       "2       25973  690.0\n",
       "3       26280  690.0\n",
       "4      100300  990.0"
      ]
     },
     "execution_count": 195,
     "metadata": {},
     "output_type": "execute_result"
    }
   ],
   "source": [
    "checks.head()"
   ]
  },
  {
   "cell_type": "code",
   "execution_count": 196,
   "metadata": {},
   "outputs": [
    {
     "data": {
      "text/plain": [
       "((74484, 2), (92, 2), (8341, 1), (541, 2))"
      ]
     },
     "execution_count": 196,
     "metadata": {},
     "output_type": "execute_result"
    }
   ],
   "source": [
    "# размеры датасетов\n",
    "groups.shape, groups_add.shape, active_studs.shape, checks.shape"
   ]
  },
  {
   "cell_type": "code",
   "execution_count": 197,
   "metadata": {},
   "outputs": [
    {
     "data": {
      "text/plain": [
       "grp\n",
       "A    14671\n",
       "B    59813\n",
       "Name: id, dtype: int64"
      ]
     },
     "execution_count": 197,
     "metadata": {},
     "output_type": "execute_result"
    }
   ],
   "source": [
    "# количество уникальных значений\n",
    "groups.groupby('grp').id.nunique()"
   ]
  },
  {
   "cell_type": "code",
   "execution_count": 198,
   "metadata": {},
   "outputs": [
    {
     "data": {
      "text/plain": [
       "grp\n",
       "A    22\n",
       "B    70\n",
       "Name: id, dtype: int64"
      ]
     },
     "execution_count": 198,
     "metadata": {},
     "output_type": "execute_result"
    }
   ],
   "source": [
    "groups_add.groupby('grp').id.nunique()"
   ]
  },
  {
   "cell_type": "code",
   "execution_count": 199,
   "metadata": {},
   "outputs": [
    {
     "data": {
      "text/plain": [
       "8341"
      ]
     },
     "execution_count": 199,
     "metadata": {},
     "output_type": "execute_result"
    }
   ],
   "source": [
    "active_studs.student_id.nunique()"
   ]
  },
  {
   "cell_type": "code",
   "execution_count": 200,
   "metadata": {},
   "outputs": [
    {
     "data": {
      "text/plain": [
       "541"
      ]
     },
     "execution_count": 200,
     "metadata": {},
     "output_type": "execute_result"
    }
   ],
   "source": [
    "checks.student_id.nunique()"
   ]
  },
  {
   "cell_type": "code",
   "execution_count": 201,
   "metadata": {},
   "outputs": [
    {
     "name": "stdout",
     "output_type": "stream",
     "text": [
      "<class 'pandas.core.frame.DataFrame'>\n",
      "RangeIndex: 74484 entries, 0 to 74483\n",
      "Data columns (total 2 columns):\n",
      " #   Column  Non-Null Count  Dtype \n",
      "---  ------  --------------  ----- \n",
      " 0   id      74484 non-null  int64 \n",
      " 1   grp     74484 non-null  object\n",
      "dtypes: int64(1), object(1)\n",
      "memory usage: 1.1+ MB\n"
     ]
    }
   ],
   "source": [
    "# узнаем типы данных\n",
    "groups.info()"
   ]
  },
  {
   "cell_type": "code",
   "execution_count": 202,
   "metadata": {},
   "outputs": [
    {
     "name": "stdout",
     "output_type": "stream",
     "text": [
      "<class 'pandas.core.frame.DataFrame'>\n",
      "RangeIndex: 8341 entries, 0 to 8340\n",
      "Data columns (total 1 columns):\n",
      " #   Column      Non-Null Count  Dtype\n",
      "---  ------      --------------  -----\n",
      " 0   student_id  8341 non-null   int64\n",
      "dtypes: int64(1)\n",
      "memory usage: 65.3 KB\n"
     ]
    }
   ],
   "source": [
    "active_studs.info()"
   ]
  },
  {
   "cell_type": "code",
   "execution_count": 203,
   "metadata": {},
   "outputs": [
    {
     "name": "stdout",
     "output_type": "stream",
     "text": [
      "<class 'pandas.core.frame.DataFrame'>\n",
      "RangeIndex: 541 entries, 0 to 540\n",
      "Data columns (total 2 columns):\n",
      " #   Column      Non-Null Count  Dtype  \n",
      "---  ------      --------------  -----  \n",
      " 0   student_id  541 non-null    int64  \n",
      " 1   rev         541 non-null    float64\n",
      "dtypes: float64(1), int64(1)\n",
      "memory usage: 8.6 KB\n"
     ]
    }
   ],
   "source": [
    "checks.info()"
   ]
  },
  {
   "cell_type": "code",
   "execution_count": 204,
   "metadata": {},
   "outputs": [
    {
     "name": "stdout",
     "output_type": "stream",
     "text": [
      "<class 'pandas.core.frame.DataFrame'>\n",
      "RangeIndex: 92 entries, 0 to 91\n",
      "Data columns (total 2 columns):\n",
      " #   Column  Non-Null Count  Dtype \n",
      "---  ------  --------------  ----- \n",
      " 0   id      92 non-null     int64 \n",
      " 1   grp     92 non-null     object\n",
      "dtypes: int64(1), object(1)\n",
      "memory usage: 1.6+ KB\n"
     ]
    }
   ],
   "source": [
    "groups_add.info()"
   ]
  },
  {
   "cell_type": "code",
   "execution_count": 205,
   "metadata": {},
   "outputs": [
    {
     "data": {
      "text/plain": [
       "id     0\n",
       "grp    0\n",
       "dtype: int64"
      ]
     },
     "execution_count": 205,
     "metadata": {},
     "output_type": "execute_result"
    }
   ],
   "source": [
    "# проверим количество незаполненных значений во всех датафреймах\n",
    "groups.isna().sum()\n"
   ]
  },
  {
   "cell_type": "code",
   "execution_count": 206,
   "metadata": {},
   "outputs": [
    {
     "data": {
      "text/plain": [
       "student_id    0\n",
       "dtype: int64"
      ]
     },
     "execution_count": 206,
     "metadata": {},
     "output_type": "execute_result"
    }
   ],
   "source": [
    "active_studs.isna().sum()"
   ]
  },
  {
   "cell_type": "code",
   "execution_count": 207,
   "metadata": {},
   "outputs": [
    {
     "data": {
      "text/plain": [
       "student_id    0\n",
       "rev           0\n",
       "dtype: int64"
      ]
     },
     "execution_count": 207,
     "metadata": {},
     "output_type": "execute_result"
    }
   ],
   "source": [
    "checks.isna().sum()"
   ]
  },
  {
   "cell_type": "code",
   "execution_count": 208,
   "metadata": {},
   "outputs": [
    {
     "data": {
      "text/plain": [
       "id     0\n",
       "grp    0\n",
       "dtype: int64"
      ]
     },
     "execution_count": 208,
     "metadata": {},
     "output_type": "execute_result"
    }
   ],
   "source": [
    "groups_add.isna().sum()"
   ]
  },
  {
   "cell_type": "code",
   "execution_count": 209,
   "metadata": {},
   "outputs": [
    {
     "data": {
      "text/plain": [
       "0"
      ]
     },
     "execution_count": 209,
     "metadata": {},
     "output_type": "execute_result"
    }
   ],
   "source": [
    "# проверим наличие дубликатов в датафреймах\n",
    "groups.duplicated().sum()"
   ]
  },
  {
   "cell_type": "code",
   "execution_count": 210,
   "metadata": {},
   "outputs": [
    {
     "data": {
      "text/plain": [
       "0"
      ]
     },
     "execution_count": 210,
     "metadata": {},
     "output_type": "execute_result"
    }
   ],
   "source": [
    "checks.duplicated().sum() "
   ]
  },
  {
   "cell_type": "code",
   "execution_count": 211,
   "metadata": {},
   "outputs": [
    {
     "data": {
      "text/plain": [
       "0"
      ]
     },
     "execution_count": 211,
     "metadata": {},
     "output_type": "execute_result"
    }
   ],
   "source": [
    "active_studs.duplicated().sum()"
   ]
  },
  {
   "cell_type": "code",
   "execution_count": 212,
   "metadata": {},
   "outputs": [
    {
     "data": {
      "text/plain": [
       "0"
      ]
     },
     "execution_count": 212,
     "metadata": {},
     "output_type": "execute_result"
    }
   ],
   "source": [
    "groups_add.duplicated().sum()"
   ]
  },
  {
   "cell_type": "markdown",
   "metadata": {},
   "source": [
    "Видим, что в расматривамых данных пропуски и дубликаты отсутствуют, значения уникальны. Формат данных подходит для дальнейшего исследования. "
   ]
  },
  {
   "cell_type": "code",
   "execution_count": 213,
   "metadata": {},
   "outputs": [],
   "source": [
    "# объединим датафреймы с группами (основной и дополнительный) и переименуем колонку id\n",
    "full_groups = pd.concat([groups, groups_add], ignore_index=True)\n",
    "full_groups = full_groups.rename(columns={'id': 'student_id'})"
   ]
  },
  {
   "cell_type": "code",
   "execution_count": 214,
   "metadata": {},
   "outputs": [
    {
     "data": {
      "text/plain": [
       "(74576, 2)"
      ]
     },
     "execution_count": 214,
     "metadata": {},
     "output_type": "execute_result"
    }
   ],
   "source": [
    "# проверим размер нового датафрейма\n",
    "full_groups.shape"
   ]
  },
  {
   "cell_type": "code",
   "execution_count": 215,
   "metadata": {},
   "outputs": [
    {
     "name": "stdout",
     "output_type": "stream",
     "text": [
      "<class 'pandas.core.frame.DataFrame'>\n",
      "RangeIndex: 74576 entries, 0 to 74575\n",
      "Data columns (total 2 columns):\n",
      " #   Column      Non-Null Count  Dtype \n",
      "---  ------      --------------  ----- \n",
      " 0   student_id  74576 non-null  int64 \n",
      " 1   grp         74576 non-null  object\n",
      "dtypes: int64(1), object(1)\n",
      "memory usage: 1.1+ MB\n"
     ]
    }
   ],
   "source": [
    "full_groups.info()"
   ]
  },
  {
   "cell_type": "code",
   "execution_count": 216,
   "metadata": {},
   "outputs": [
    {
     "data": {
      "text/plain": [
       "student_id    0\n",
       "grp           0\n",
       "dtype: int64"
      ]
     },
     "execution_count": 216,
     "metadata": {},
     "output_type": "execute_result"
    }
   ],
   "source": [
    "# проверим количество незаполненных значений в новом датафрейме\n",
    "full_groups.isna().sum()"
   ]
  },
  {
   "cell_type": "code",
   "execution_count": 217,
   "metadata": {},
   "outputs": [
    {
     "data": {
      "text/plain": [
       "0"
      ]
     },
     "execution_count": 217,
     "metadata": {},
     "output_type": "execute_result"
    }
   ],
   "source": [
    "# проверим наличие дубликатов в новом датафрейме\n",
    "full_groups.duplicated().sum()"
   ]
  },
  {
   "cell_type": "code",
   "execution_count": 218,
   "metadata": {},
   "outputs": [
    {
     "data": {
      "text/html": [
       "<div>\n",
       "<style scoped>\n",
       "    .dataframe tbody tr th:only-of-type {\n",
       "        vertical-align: middle;\n",
       "    }\n",
       "\n",
       "    .dataframe tbody tr th {\n",
       "        vertical-align: top;\n",
       "    }\n",
       "\n",
       "    .dataframe thead th {\n",
       "        text-align: right;\n",
       "    }\n",
       "</style>\n",
       "<table border=\"1\" class=\"dataframe\">\n",
       "  <thead>\n",
       "    <tr style=\"text-align: right;\">\n",
       "      <th></th>\n",
       "      <th>student_id</th>\n",
       "    </tr>\n",
       "    <tr>\n",
       "      <th>grp</th>\n",
       "      <th></th>\n",
       "    </tr>\n",
       "  </thead>\n",
       "  <tbody>\n",
       "    <tr>\n",
       "      <th>A</th>\n",
       "      <td>14693</td>\n",
       "    </tr>\n",
       "    <tr>\n",
       "      <th>B</th>\n",
       "      <td>59883</td>\n",
       "    </tr>\n",
       "  </tbody>\n",
       "</table>\n",
       "</div>"
      ],
      "text/plain": [
       "     student_id\n",
       "grp            \n",
       "A         14693\n",
       "B         59883"
      ]
     },
     "execution_count": 218,
     "metadata": {},
     "output_type": "execute_result"
    }
   ],
   "source": [
    "# посмотрим на количество уникальных значений в группах\n",
    "full_groups.groupby('grp').nunique()"
   ]
  },
  {
   "cell_type": "code",
   "execution_count": 219,
   "metadata": {},
   "outputs": [
    {
     "data": {
      "text/html": [
       "<div>\n",
       "<style scoped>\n",
       "    .dataframe tbody tr th:only-of-type {\n",
       "        vertical-align: middle;\n",
       "    }\n",
       "\n",
       "    .dataframe tbody tr th {\n",
       "        vertical-align: top;\n",
       "    }\n",
       "\n",
       "    .dataframe thead th {\n",
       "        text-align: right;\n",
       "    }\n",
       "</style>\n",
       "<table border=\"1\" class=\"dataframe\">\n",
       "  <thead>\n",
       "    <tr style=\"text-align: right;\">\n",
       "      <th></th>\n",
       "      <th>student_id</th>\n",
       "      <th>grp</th>\n",
       "      <th>rev</th>\n",
       "    </tr>\n",
       "  </thead>\n",
       "  <tbody>\n",
       "    <tr>\n",
       "      <th>0</th>\n",
       "      <td>1489</td>\n",
       "      <td>B</td>\n",
       "      <td>0.0</td>\n",
       "    </tr>\n",
       "    <tr>\n",
       "      <th>1</th>\n",
       "      <td>1627</td>\n",
       "      <td>A</td>\n",
       "      <td>990.0</td>\n",
       "    </tr>\n",
       "    <tr>\n",
       "      <th>2</th>\n",
       "      <td>1768</td>\n",
       "      <td>B</td>\n",
       "      <td>0.0</td>\n",
       "    </tr>\n",
       "    <tr>\n",
       "      <th>3</th>\n",
       "      <td>1783</td>\n",
       "      <td>B</td>\n",
       "      <td>0.0</td>\n",
       "    </tr>\n",
       "    <tr>\n",
       "      <th>4</th>\n",
       "      <td>1794</td>\n",
       "      <td>A</td>\n",
       "      <td>0.0</td>\n",
       "    </tr>\n",
       "    <tr>\n",
       "      <th>...</th>\n",
       "      <td>...</td>\n",
       "      <td>...</td>\n",
       "      <td>...</td>\n",
       "    </tr>\n",
       "    <tr>\n",
       "      <th>74571</th>\n",
       "      <td>200247820</td>\n",
       "      <td>B</td>\n",
       "      <td>0.0</td>\n",
       "    </tr>\n",
       "    <tr>\n",
       "      <th>74572</th>\n",
       "      <td>201032527</td>\n",
       "      <td>B</td>\n",
       "      <td>0.0</td>\n",
       "    </tr>\n",
       "    <tr>\n",
       "      <th>74573</th>\n",
       "      <td>201067612</td>\n",
       "      <td>B</td>\n",
       "      <td>0.0</td>\n",
       "    </tr>\n",
       "    <tr>\n",
       "      <th>74574</th>\n",
       "      <td>201067653</td>\n",
       "      <td>B</td>\n",
       "      <td>0.0</td>\n",
       "    </tr>\n",
       "    <tr>\n",
       "      <th>74575</th>\n",
       "      <td>201067659</td>\n",
       "      <td>B</td>\n",
       "      <td>0.0</td>\n",
       "    </tr>\n",
       "  </tbody>\n",
       "</table>\n",
       "<p>74576 rows × 3 columns</p>\n",
       "</div>"
      ],
      "text/plain": [
       "       student_id grp    rev\n",
       "0            1489   B    0.0\n",
       "1            1627   A  990.0\n",
       "2            1768   B    0.0\n",
       "3            1783   B    0.0\n",
       "4            1794   A    0.0\n",
       "...           ...  ..    ...\n",
       "74571   200247820   B    0.0\n",
       "74572   201032527   B    0.0\n",
       "74573   201067612   B    0.0\n",
       "74574   201067653   B    0.0\n",
       "74575   201067659   B    0.0\n",
       "\n",
       "[74576 rows x 3 columns]"
      ]
     },
     "execution_count": 219,
     "metadata": {},
     "output_type": "execute_result"
    }
   ],
   "source": [
    "# объединим датафрейм с информацией об оплатах, пропуски заполним 0\n",
    "groups_with_all_rev = full_groups.merge(checks, on='student_id', how='left').fillna(0)\n",
    "groups_with_all_rev"
   ]
  },
  {
   "cell_type": "code",
   "execution_count": 220,
   "metadata": {},
   "outputs": [
    {
     "data": {
      "text/plain": [
       "0"
      ]
     },
     "execution_count": 220,
     "metadata": {},
     "output_type": "execute_result"
    }
   ],
   "source": [
    "# проверим наличие дубликатов в новом датафрейме\n",
    "groups_with_all_rev.duplicated().sum()"
   ]
  },
  {
   "cell_type": "code",
   "execution_count": 221,
   "metadata": {},
   "outputs": [
    {
     "data": {
      "text/html": [
       "<div>\n",
       "<style scoped>\n",
       "    .dataframe tbody tr th:only-of-type {\n",
       "        vertical-align: middle;\n",
       "    }\n",
       "\n",
       "    .dataframe tbody tr th {\n",
       "        vertical-align: top;\n",
       "    }\n",
       "\n",
       "    .dataframe thead th {\n",
       "        text-align: right;\n",
       "    }\n",
       "</style>\n",
       "<table border=\"1\" class=\"dataframe\">\n",
       "  <thead>\n",
       "    <tr style=\"text-align: right;\">\n",
       "      <th></th>\n",
       "      <th>student_id</th>\n",
       "      <th>grp</th>\n",
       "      <th>rev</th>\n",
       "      <th>is_active</th>\n",
       "    </tr>\n",
       "  </thead>\n",
       "  <tbody>\n",
       "    <tr>\n",
       "      <th>0</th>\n",
       "      <td>1489</td>\n",
       "      <td>B</td>\n",
       "      <td>0.0</td>\n",
       "      <td>False</td>\n",
       "    </tr>\n",
       "    <tr>\n",
       "      <th>1</th>\n",
       "      <td>1627</td>\n",
       "      <td>A</td>\n",
       "      <td>990.0</td>\n",
       "      <td>True</td>\n",
       "    </tr>\n",
       "    <tr>\n",
       "      <th>2</th>\n",
       "      <td>1768</td>\n",
       "      <td>B</td>\n",
       "      <td>0.0</td>\n",
       "      <td>False</td>\n",
       "    </tr>\n",
       "    <tr>\n",
       "      <th>3</th>\n",
       "      <td>1783</td>\n",
       "      <td>B</td>\n",
       "      <td>0.0</td>\n",
       "      <td>False</td>\n",
       "    </tr>\n",
       "    <tr>\n",
       "      <th>4</th>\n",
       "      <td>1794</td>\n",
       "      <td>A</td>\n",
       "      <td>0.0</td>\n",
       "      <td>False</td>\n",
       "    </tr>\n",
       "    <tr>\n",
       "      <th>...</th>\n",
       "      <td>...</td>\n",
       "      <td>...</td>\n",
       "      <td>...</td>\n",
       "      <td>...</td>\n",
       "    </tr>\n",
       "    <tr>\n",
       "      <th>74571</th>\n",
       "      <td>200247820</td>\n",
       "      <td>B</td>\n",
       "      <td>0.0</td>\n",
       "      <td>False</td>\n",
       "    </tr>\n",
       "    <tr>\n",
       "      <th>74572</th>\n",
       "      <td>201032527</td>\n",
       "      <td>B</td>\n",
       "      <td>0.0</td>\n",
       "      <td>False</td>\n",
       "    </tr>\n",
       "    <tr>\n",
       "      <th>74573</th>\n",
       "      <td>201067612</td>\n",
       "      <td>B</td>\n",
       "      <td>0.0</td>\n",
       "      <td>False</td>\n",
       "    </tr>\n",
       "    <tr>\n",
       "      <th>74574</th>\n",
       "      <td>201067653</td>\n",
       "      <td>B</td>\n",
       "      <td>0.0</td>\n",
       "      <td>False</td>\n",
       "    </tr>\n",
       "    <tr>\n",
       "      <th>74575</th>\n",
       "      <td>201067659</td>\n",
       "      <td>B</td>\n",
       "      <td>0.0</td>\n",
       "      <td>False</td>\n",
       "    </tr>\n",
       "  </tbody>\n",
       "</table>\n",
       "<p>74576 rows × 4 columns</p>\n",
       "</div>"
      ],
      "text/plain": [
       "       student_id grp    rev  is_active\n",
       "0            1489   B    0.0      False\n",
       "1            1627   A  990.0       True\n",
       "2            1768   B    0.0      False\n",
       "3            1783   B    0.0      False\n",
       "4            1794   A    0.0      False\n",
       "...           ...  ..    ...        ...\n",
       "74571   200247820   B    0.0      False\n",
       "74572   201032527   B    0.0      False\n",
       "74573   201067612   B    0.0      False\n",
       "74574   201067653   B    0.0      False\n",
       "74575   201067659   B    0.0      False\n",
       "\n",
       "[74576 rows x 4 columns]"
      ]
     },
     "execution_count": 221,
     "metadata": {},
     "output_type": "execute_result"
    }
   ],
   "source": [
    "# добавим колонку с пользователями, которые зашли/не зашли на платформу в дни проведения теста\n",
    "groups_with_all_rev['is_active'] = groups_with_all_rev['student_id'].isin(active_studs['student_id'])\n",
    "groups_with_all_rev"
   ]
  },
  {
   "cell_type": "code",
   "execution_count": 222,
   "metadata": {},
   "outputs": [
    {
     "data": {
      "text/html": [
       "<div>\n",
       "<style scoped>\n",
       "    .dataframe tbody tr th:only-of-type {\n",
       "        vertical-align: middle;\n",
       "    }\n",
       "\n",
       "    .dataframe tbody tr th {\n",
       "        vertical-align: top;\n",
       "    }\n",
       "\n",
       "    .dataframe thead th {\n",
       "        text-align: right;\n",
       "    }\n",
       "</style>\n",
       "<table border=\"1\" class=\"dataframe\">\n",
       "  <thead>\n",
       "    <tr style=\"text-align: right;\">\n",
       "      <th></th>\n",
       "      <th>is_active</th>\n",
       "      <th>student_id</th>\n",
       "    </tr>\n",
       "  </thead>\n",
       "  <tbody>\n",
       "    <tr>\n",
       "      <th>0</th>\n",
       "      <td>False</td>\n",
       "      <td>149</td>\n",
       "    </tr>\n",
       "    <tr>\n",
       "      <th>1</th>\n",
       "      <td>True</td>\n",
       "      <td>392</td>\n",
       "    </tr>\n",
       "  </tbody>\n",
       "</table>\n",
       "</div>"
      ],
      "text/plain": [
       "   is_active  student_id\n",
       "0      False         149\n",
       "1       True         392"
      ]
     },
     "execution_count": 222,
     "metadata": {},
     "output_type": "execute_result"
    }
   ],
   "source": [
    "# посмотрим на количество пользователей, которые зашли или не зашли на платформу и совершили оплаты\n",
    "groups_with_all_rev[groups_with_all_rev['rev'] != 0].groupby('is_active', as_index=False).agg({'student_id': 'nunique'})"
   ]
  },
  {
   "cell_type": "markdown",
   "metadata": {},
   "source": [
    "Как видим 392 человека зашли на платформу и совершили покупки, 149 человек оплатили каким-то другим способом. Исключаем их из исследования, так как они не входят в нашу целевую группу. "
   ]
  },
  {
   "cell_type": "code",
   "execution_count": 223,
   "metadata": {},
   "outputs": [
    {
     "data": {
      "text/html": [
       "<div>\n",
       "<style scoped>\n",
       "    .dataframe tbody tr th:only-of-type {\n",
       "        vertical-align: middle;\n",
       "    }\n",
       "\n",
       "    .dataframe tbody tr th {\n",
       "        vertical-align: top;\n",
       "    }\n",
       "\n",
       "    .dataframe thead th {\n",
       "        text-align: right;\n",
       "    }\n",
       "</style>\n",
       "<table border=\"1\" class=\"dataframe\">\n",
       "  <thead>\n",
       "    <tr style=\"text-align: right;\">\n",
       "      <th></th>\n",
       "      <th>student_id</th>\n",
       "      <th>grp</th>\n",
       "      <th>rev</th>\n",
       "      <th>is_active</th>\n",
       "    </tr>\n",
       "  </thead>\n",
       "  <tbody>\n",
       "    <tr>\n",
       "      <th>1</th>\n",
       "      <td>1627</td>\n",
       "      <td>A</td>\n",
       "      <td>990.0</td>\n",
       "      <td>True</td>\n",
       "    </tr>\n",
       "    <tr>\n",
       "      <th>10</th>\n",
       "      <td>2085</td>\n",
       "      <td>B</td>\n",
       "      <td>0.0</td>\n",
       "      <td>True</td>\n",
       "    </tr>\n",
       "    <tr>\n",
       "      <th>12</th>\n",
       "      <td>2215</td>\n",
       "      <td>B</td>\n",
       "      <td>0.0</td>\n",
       "      <td>True</td>\n",
       "    </tr>\n",
       "    <tr>\n",
       "      <th>43</th>\n",
       "      <td>3391</td>\n",
       "      <td>A</td>\n",
       "      <td>0.0</td>\n",
       "      <td>True</td>\n",
       "    </tr>\n",
       "    <tr>\n",
       "      <th>45</th>\n",
       "      <td>3401</td>\n",
       "      <td>B</td>\n",
       "      <td>0.0</td>\n",
       "      <td>True</td>\n",
       "    </tr>\n",
       "    <tr>\n",
       "      <th>...</th>\n",
       "      <td>...</td>\n",
       "      <td>...</td>\n",
       "      <td>...</td>\n",
       "      <td>...</td>\n",
       "    </tr>\n",
       "    <tr>\n",
       "      <th>74543</th>\n",
       "      <td>5760471</td>\n",
       "      <td>B</td>\n",
       "      <td>0.0</td>\n",
       "      <td>True</td>\n",
       "    </tr>\n",
       "    <tr>\n",
       "      <th>74545</th>\n",
       "      <td>5777081</td>\n",
       "      <td>B</td>\n",
       "      <td>0.0</td>\n",
       "      <td>True</td>\n",
       "    </tr>\n",
       "    <tr>\n",
       "      <th>74558</th>\n",
       "      <td>5870856</td>\n",
       "      <td>A</td>\n",
       "      <td>0.0</td>\n",
       "      <td>True</td>\n",
       "    </tr>\n",
       "    <tr>\n",
       "      <th>74561</th>\n",
       "      <td>5945085</td>\n",
       "      <td>B</td>\n",
       "      <td>0.0</td>\n",
       "      <td>True</td>\n",
       "    </tr>\n",
       "    <tr>\n",
       "      <th>74562</th>\n",
       "      <td>5951797</td>\n",
       "      <td>B</td>\n",
       "      <td>0.0</td>\n",
       "      <td>True</td>\n",
       "    </tr>\n",
       "  </tbody>\n",
       "</table>\n",
       "<p>8341 rows × 4 columns</p>\n",
       "</div>"
      ],
      "text/plain": [
       "       student_id grp    rev  is_active\n",
       "1            1627   A  990.0       True\n",
       "10           2085   B    0.0       True\n",
       "12           2215   B    0.0       True\n",
       "43           3391   A    0.0       True\n",
       "45           3401   B    0.0       True\n",
       "...           ...  ..    ...        ...\n",
       "74543     5760471   B    0.0       True\n",
       "74545     5777081   B    0.0       True\n",
       "74558     5870856   A    0.0       True\n",
       "74561     5945085   B    0.0       True\n",
       "74562     5951797   B    0.0       True\n",
       "\n",
       "[8341 rows x 4 columns]"
      ]
     },
     "execution_count": 223,
     "metadata": {},
     "output_type": "execute_result"
    }
   ],
   "source": [
    "# датафрейм с активными пользователями, которые зашли на платформу\n",
    "df_active = groups_with_all_rev[groups_with_all_rev['is_active']]\n",
    "df_active"
   ]
  },
  {
   "cell_type": "code",
   "execution_count": 224,
   "metadata": {},
   "outputs": [
    {
     "data": {
      "text/html": [
       "<div>\n",
       "<style scoped>\n",
       "    .dataframe tbody tr th:only-of-type {\n",
       "        vertical-align: middle;\n",
       "    }\n",
       "\n",
       "    .dataframe tbody tr th {\n",
       "        vertical-align: top;\n",
       "    }\n",
       "\n",
       "    .dataframe thead th {\n",
       "        text-align: right;\n",
       "    }\n",
       "</style>\n",
       "<table border=\"1\" class=\"dataframe\">\n",
       "  <thead>\n",
       "    <tr style=\"text-align: right;\">\n",
       "      <th></th>\n",
       "      <th>count</th>\n",
       "      <th>mean</th>\n",
       "      <th>std</th>\n",
       "      <th>min</th>\n",
       "      <th>25%</th>\n",
       "      <th>50%</th>\n",
       "      <th>75%</th>\n",
       "      <th>max</th>\n",
       "    </tr>\n",
       "    <tr>\n",
       "      <th>grp</th>\n",
       "      <th></th>\n",
       "      <th></th>\n",
       "      <th></th>\n",
       "      <th></th>\n",
       "      <th></th>\n",
       "      <th></th>\n",
       "      <th></th>\n",
       "      <th></th>\n",
       "    </tr>\n",
       "  </thead>\n",
       "  <tbody>\n",
       "    <tr>\n",
       "      <th>A</th>\n",
       "      <td>1538.0</td>\n",
       "      <td>47.347204</td>\n",
       "      <td>290.490632</td>\n",
       "      <td>0.0</td>\n",
       "      <td>0.0</td>\n",
       "      <td>0.0</td>\n",
       "      <td>0.0</td>\n",
       "      <td>3660.0</td>\n",
       "    </tr>\n",
       "    <tr>\n",
       "      <th>B</th>\n",
       "      <td>6803.0</td>\n",
       "      <td>58.058798</td>\n",
       "      <td>313.770201</td>\n",
       "      <td>0.0</td>\n",
       "      <td>0.0</td>\n",
       "      <td>0.0</td>\n",
       "      <td>0.0</td>\n",
       "      <td>4650.0</td>\n",
       "    </tr>\n",
       "  </tbody>\n",
       "</table>\n",
       "</div>"
      ],
      "text/plain": [
       "      count       mean         std  min  25%  50%  75%     max\n",
       "grp                                                           \n",
       "A    1538.0  47.347204  290.490632  0.0  0.0  0.0  0.0  3660.0\n",
       "B    6803.0  58.058798  313.770201  0.0  0.0  0.0  0.0  4650.0"
      ]
     },
     "execution_count": 224,
     "metadata": {},
     "output_type": "execute_result"
    }
   ],
   "source": [
    "# посмотрим на статистические показатели оплат активных пользователей\n",
    "df_active.groupby('grp').rev.describe()"
   ]
  },
  {
   "cell_type": "code",
   "execution_count": 225,
   "metadata": {},
   "outputs": [
    {
     "data": {
      "text/plain": [
       "[Text(0, 0.5, 'Количество пользователей'), Text(0.5, 0, 'Выручка')]"
      ]
     },
     "execution_count": 225,
     "metadata": {},
     "output_type": "execute_result"
    },
    {
     "data": {
      "image/png": "[encoded data removed]",
      "text/plain": [
       "<Figure size 1080x504 with 1 Axes>"
      ]
     },
     "metadata": {},
     "output_type": "display_data"
    }
   ],
   "source": [
    "# визуализируем распределение по оплатам активных пользователей\n",
    "ax = sns.histplot(x=\"rev\", hue=\"grp\", data=df_active, bins=10)\n",
    "ax.set(xlabel='Выручка', ylabel='Количество пользователей')"
   ]
  },
  {
   "cell_type": "markdown",
   "metadata": {},
   "source": [
    "Из графика видим, что большая чать пользователей в обеих группах не совершала оплат."
   ]
  },
  {
   "cell_type": "code",
   "execution_count": 226,
   "metadata": {},
   "outputs": [
    {
     "data": {
      "text/html": [
       "<div>\n",
       "<style scoped>\n",
       "    .dataframe tbody tr th:only-of-type {\n",
       "        vertical-align: middle;\n",
       "    }\n",
       "\n",
       "    .dataframe tbody tr th {\n",
       "        vertical-align: top;\n",
       "    }\n",
       "\n",
       "    .dataframe thead th {\n",
       "        text-align: right;\n",
       "    }\n",
       "</style>\n",
       "<table border=\"1\" class=\"dataframe\">\n",
       "  <thead>\n",
       "    <tr style=\"text-align: right;\">\n",
       "      <th></th>\n",
       "      <th>student_id</th>\n",
       "      <th>grp</th>\n",
       "      <th>rev</th>\n",
       "      <th>is_active</th>\n",
       "    </tr>\n",
       "  </thead>\n",
       "  <tbody>\n",
       "    <tr>\n",
       "      <th>1</th>\n",
       "      <td>1627</td>\n",
       "      <td>A</td>\n",
       "      <td>990.0000</td>\n",
       "      <td>True</td>\n",
       "    </tr>\n",
       "    <tr>\n",
       "      <th>220</th>\n",
       "      <td>100300</td>\n",
       "      <td>B</td>\n",
       "      <td>990.0000</td>\n",
       "      <td>True</td>\n",
       "    </tr>\n",
       "    <tr>\n",
       "      <th>320</th>\n",
       "      <td>108270</td>\n",
       "      <td>B</td>\n",
       "      <td>290.0000</td>\n",
       "      <td>True</td>\n",
       "    </tr>\n",
       "    <tr>\n",
       "      <th>3779</th>\n",
       "      <td>264473</td>\n",
       "      <td>B</td>\n",
       "      <td>1900.0001</td>\n",
       "      <td>True</td>\n",
       "    </tr>\n",
       "    <tr>\n",
       "      <th>4187</th>\n",
       "      <td>274352</td>\n",
       "      <td>B</td>\n",
       "      <td>690.0000</td>\n",
       "      <td>True</td>\n",
       "    </tr>\n",
       "    <tr>\n",
       "      <th>...</th>\n",
       "      <td>...</td>\n",
       "      <td>...</td>\n",
       "      <td>...</td>\n",
       "      <td>...</td>\n",
       "    </tr>\n",
       "    <tr>\n",
       "      <th>74365</th>\n",
       "      <td>5645737</td>\n",
       "      <td>B</td>\n",
       "      <td>1900.0000</td>\n",
       "      <td>True</td>\n",
       "    </tr>\n",
       "    <tr>\n",
       "      <th>74381</th>\n",
       "      <td>5651566</td>\n",
       "      <td>B</td>\n",
       "      <td>1900.0000</td>\n",
       "      <td>True</td>\n",
       "    </tr>\n",
       "    <tr>\n",
       "      <th>74402</th>\n",
       "      <td>5662322</td>\n",
       "      <td>B</td>\n",
       "      <td>1900.0000</td>\n",
       "      <td>True</td>\n",
       "    </tr>\n",
       "    <tr>\n",
       "      <th>74452</th>\n",
       "      <td>5681918</td>\n",
       "      <td>B</td>\n",
       "      <td>1900.0000</td>\n",
       "      <td>True</td>\n",
       "    </tr>\n",
       "    <tr>\n",
       "      <th>74539</th>\n",
       "      <td>5740903</td>\n",
       "      <td>B</td>\n",
       "      <td>1900.0000</td>\n",
       "      <td>True</td>\n",
       "    </tr>\n",
       "  </tbody>\n",
       "</table>\n",
       "<p>392 rows × 4 columns</p>\n",
       "</div>"
      ],
      "text/plain": [
       "       student_id grp        rev  is_active\n",
       "1            1627   A   990.0000       True\n",
       "220        100300   B   990.0000       True\n",
       "320        108270   B   290.0000       True\n",
       "3779       264473   B  1900.0001       True\n",
       "4187       274352   B   690.0000       True\n",
       "...           ...  ..        ...        ...\n",
       "74365     5645737   B  1900.0000       True\n",
       "74381     5651566   B  1900.0000       True\n",
       "74402     5662322   B  1900.0000       True\n",
       "74452     5681918   B  1900.0000       True\n",
       "74539     5740903   B  1900.0000       True\n",
       "\n",
       "[392 rows x 4 columns]"
      ]
     },
     "execution_count": 226,
     "metadata": {},
     "output_type": "execute_result"
    }
   ],
   "source": [
    "# датафрейм с активными пользователями, которые совершали оплаты\n",
    "df_active_w_check = df_active.query('rev != 0')\n",
    "df_active_w_check"
   ]
  },
  {
   "cell_type": "code",
   "execution_count": 227,
   "metadata": {},
   "outputs": [
    {
     "data": {
      "text/html": [
       "<div>\n",
       "<style scoped>\n",
       "    .dataframe tbody tr th:only-of-type {\n",
       "        vertical-align: middle;\n",
       "    }\n",
       "\n",
       "    .dataframe tbody tr th {\n",
       "        vertical-align: top;\n",
       "    }\n",
       "\n",
       "    .dataframe thead th {\n",
       "        text-align: right;\n",
       "    }\n",
       "</style>\n",
       "<table border=\"1\" class=\"dataframe\">\n",
       "  <thead>\n",
       "    <tr style=\"text-align: right;\">\n",
       "      <th></th>\n",
       "      <th>count</th>\n",
       "      <th>mean</th>\n",
       "      <th>std</th>\n",
       "      <th>min</th>\n",
       "      <th>25%</th>\n",
       "      <th>50%</th>\n",
       "      <th>75%</th>\n",
       "      <th>max</th>\n",
       "    </tr>\n",
       "    <tr>\n",
       "      <th>grp</th>\n",
       "      <th></th>\n",
       "      <th></th>\n",
       "      <th></th>\n",
       "      <th></th>\n",
       "      <th></th>\n",
       "      <th></th>\n",
       "      <th></th>\n",
       "      <th></th>\n",
       "    </tr>\n",
       "  </thead>\n",
       "  <tbody>\n",
       "    <tr>\n",
       "      <th>A</th>\n",
       "      <td>78.0</td>\n",
       "      <td>933.589744</td>\n",
       "      <td>919.932711</td>\n",
       "      <td>199.0</td>\n",
       "      <td>290.00</td>\n",
       "      <td>585.0</td>\n",
       "      <td>1114.75</td>\n",
       "      <td>3660.0</td>\n",
       "    </tr>\n",
       "    <tr>\n",
       "      <th>B</th>\n",
       "      <td>314.0</td>\n",
       "      <td>1257.878992</td>\n",
       "      <td>790.864254</td>\n",
       "      <td>199.0</td>\n",
       "      <td>511.75</td>\n",
       "      <td>1140.0</td>\n",
       "      <td>1900.00</td>\n",
       "      <td>4650.0</td>\n",
       "    </tr>\n",
       "  </tbody>\n",
       "</table>\n",
       "</div>"
      ],
      "text/plain": [
       "     count         mean         std    min     25%     50%      75%     max\n",
       "grp                                                                        \n",
       "A     78.0   933.589744  919.932711  199.0  290.00   585.0  1114.75  3660.0\n",
       "B    314.0  1257.878992  790.864254  199.0  511.75  1140.0  1900.00  4650.0"
      ]
     },
     "execution_count": 227,
     "metadata": {},
     "output_type": "execute_result"
    }
   ],
   "source": [
    "# посмотрим на статистические показатели активных пользователей, которые совершали оплаты\n",
    "df_active_w_check.groupby('grp').rev.describe()"
   ]
  },
  {
   "cell_type": "code",
   "execution_count": 228,
   "metadata": {},
   "outputs": [
    {
     "data": {
      "text/plain": [
       "[Text(0, 0.5, 'Количество пользователей'), Text(0.5, 0, 'Выручка')]"
      ]
     },
     "execution_count": 228,
     "metadata": {},
     "output_type": "execute_result"
    },
    {
     "data": {
      "image/png": "[encoded data removed]",
      "text/plain": [
       "<Figure size 1080x504 with 1 Axes>"
      ]
     },
     "metadata": {},
     "output_type": "display_data"
    }
   ],
   "source": [
    "# визуализируем распределение по активным пользователям, которые совершали оплаты\n",
    "ax = sns.histplot(x=\"rev\", hue=\"grp\", data=df_active_w_check, bins=10)\n",
    "ax.set(xlabel='Выручка', ylabel='Количество пользователей')\n"
   ]
  },
  {
   "cell_type": "code",
   "execution_count": 229,
   "metadata": {},
   "outputs": [
    {
     "data": {
      "text/plain": [
       "(array([ 0,  1,  2,  3,  4,  5,  6,  7,  8,  9, 10, 11, 12, 13, 14, 15, 16,\n",
       "        17, 18, 19, 20, 21, 22, 23, 24, 25, 26, 27, 28, 29, 30, 31, 32, 33,\n",
       "        34, 35, 36, 37]),\n",
       " <a list of 38 Text major ticklabel objects>)"
      ]
     },
     "execution_count": 229,
     "metadata": {},
     "output_type": "execute_result"
    },
    {
     "data": {
      "image/png": "[encoded data removed]",
      "text/plain": [
       "<Figure size 1080x504 with 1 Axes>"
      ]
     },
     "metadata": {},
     "output_type": "display_data"
    }
   ],
   "source": [
    "# визуализируем распределение по выручке\n",
    "ax = sns.countplot(x=\"rev\", hue=\"grp\", data=df_active_w_check)\n",
    "ax.set(xlabel='Выручка', ylabel='Количество пользователей')\n",
    "plt.xticks(rotation=60)"
   ]
  },
  {
   "cell_type": "markdown",
   "metadata": {},
   "source": [
    "Из графиков видим, что в тестовой группе значительно выросло число оплат на сумму 200, 290 и сильнее всего на сумму в районе 1900. В дальнейшем необходимо проверить не связано ли такое высокое число оплат с багом."
   ]
  },
  {
   "cell_type": "markdown",
   "metadata": {},
   "source": [
    "##### Выбор метрик для анализа\n",
    "* CR (Conversion Rate) - конверсия в покупку. Рассчитывается как CR = (Количество целевых действий / Общее количество посетителей) * 100%. Поможет определить влияет ли новая механика оплаты на увеличение доли платящих пользователей. Основная метрика для оценки эффективности новой механики оплаты.;\n",
    "* ARPU (average revenue per user) — средняя выручка на пользователя. Рассчитывается как ARPU = Доход / Количество клиентов. Поможет определить влияет ли новая механика оплаты на увеличение среднего дохода с пользователя;\n",
    "* ARPPU (average revenue per paying user) — средняя выручка на платящего пользователя (совершившего хотя бы один платёж). Рассчитывается как ARPPU = Доход / Количество платящих клиентов. Поможет определить влияет ли новая механика оплаты на увеличение среднего дохода с платящего пользователя, т.е. с лояльных пользователей. Однако по имеющимся данным, пользователи делали оплаты только 1 раз, поэтому ARPPU равен среднему чеку."
   ]
  },
  {
   "cell_type": "code",
   "execution_count": 230,
   "metadata": {},
   "outputs": [
    {
     "name": "stdout",
     "output_type": "stream",
     "text": [
      "СR для группы А: 5.07, СR для группы B: 4.62\n"
     ]
    }
   ],
   "source": [
    "# Расчет CR конверсии в покупку\n",
    "cr_a = ((df_active_w_check.query('grp == \"A\"').rev.count() /\n",
    "        df_active.query('grp == \"A\"').rev.count()) * 100).round(2)\n",
    "cr_b = ((df_active_w_check.query('grp == \"B\"').rev.count() /\n",
    "        df_active.query('grp == \"B\"').rev.count()) * 100).round(2)\n",
    "print(f'СR для группы А: {cr_a}, СR для группы B: {cr_b}')"
   ]
  },
  {
   "cell_type": "code",
   "execution_count": 231,
   "metadata": {},
   "outputs": [
    {
     "name": "stdout",
     "output_type": "stream",
     "text": [
      "ARPU для группы А: 47.35, СR для группы B: 58.06\n"
     ]
    }
   ],
   "source": [
    "# Расчет ARPU средней выручки на пользователя\n",
    "arpu_a = (df_active.query('grp == \"A\"').rev.sum() /\n",
    "         df_active.query('grp == \"A\"').student_id.nunique()).round(2)\n",
    "arpu_b = (df_active.query('grp == \"B\"').rev.sum() /\n",
    "         df_active.query('grp == \"B\"').student_id.nunique()).round(2)\n",
    "print(f'ARPU для группы А: {arpu_a}, СR для группы B: {arpu_b}')"
   ]
  },
  {
   "cell_type": "code",
   "execution_count": 232,
   "metadata": {},
   "outputs": [
    {
     "name": "stdout",
     "output_type": "stream",
     "text": [
      "ARPPU для группы А: 933.59, СR для группы B: 1257.88\n"
     ]
    }
   ],
   "source": [
    "# Расчет ARPPU средней выручки на платящего пользователя\n",
    "arppu_a = (df_active_w_check.query('grp == \"A\"').rev.sum() /\n",
    "         df_active_w_check.query('grp == \"A\"').student_id.nunique()).round(2)\n",
    "arppu_b = (df_active_w_check.query('grp == \"B\"').rev.sum() /\n",
    "         df_active_w_check.query('grp == \"B\"').student_id.nunique()).round(2)\n",
    "print(f'ARPPU для группы А: {arppu_a}, СR для группы B: {arppu_b}')"
   ]
  },
  {
   "cell_type": "markdown",
   "metadata": {},
   "source": [
    "CR ниже в тестовой группе. ARPU и ARPPU значительно выше в тестовой группе."
   ]
  },
  {
   "cell_type": "markdown",
   "metadata": {},
   "source": [
    "##### Проверка статистичесткой значимости полученых результатов\n",
    "Для выбора подходящего статистического критерия и оценки результатов метрик, посмотрим на номальность распределений данных и дисперсии между контрольной и целевой группами."
   ]
  },
  {
   "cell_type": "code",
   "execution_count": 233,
   "metadata": {},
   "outputs": [
    {
     "data": {
      "image/png": "[encoded data removed]",
      "text/plain": [
       "<Figure size 864x720 with 4 Axes>"
      ]
     },
     "metadata": {},
     "output_type": "display_data"
    }
   ],
   "source": [
    "# визуализируем распределения с помощью QQ-графиков\n",
    "fig, axs = plt.subplots(2, 2, figsize=(12, 10))\n",
    "# для активыных пользователей\n",
    "pg.qqplot(df_active.query('grp == \"A\"').rev, ax=axs[0, 0])\n",
    "axs[0, 0].set_title('Распределение в контрольной группе')\n",
    "pg.qqplot(df_active.query('grp == \"B\"').rev, ax=axs[0, 1])\n",
    "axs[0, 1].set_title('Распределение в целевой группе')\n",
    "# для активыных пользователей с оплатами\n",
    "pg.qqplot(df_active_w_check.query('grp == \"A\"').rev, ax=axs[1, 0])\n",
    "axs[1, 0].set_title('Распределение в контрольной группе')\n",
    "pg.qqplot(df_active_w_check.query('grp == \"B\"').rev, ax=axs[1, 1])\n",
    "axs[1, 1].set_title('Распределение в целевой группе')\n",
    "plt.tight_layout()\n",
    "plt.show()"
   ]
  },
  {
   "cell_type": "code",
   "execution_count": 234,
   "metadata": {},
   "outputs": [
    {
     "data": {
      "text/html": [
       "<div>\n",
       "<style scoped>\n",
       "    .dataframe tbody tr th:only-of-type {\n",
       "        vertical-align: middle;\n",
       "    }\n",
       "\n",
       "    .dataframe tbody tr th {\n",
       "        vertical-align: top;\n",
       "    }\n",
       "\n",
       "    .dataframe thead th {\n",
       "        text-align: right;\n",
       "    }\n",
       "</style>\n",
       "<table border=\"1\" class=\"dataframe\">\n",
       "  <thead>\n",
       "    <tr style=\"text-align: right;\">\n",
       "      <th></th>\n",
       "      <th>W</th>\n",
       "      <th>pval</th>\n",
       "      <th>normal</th>\n",
       "    </tr>\n",
       "  </thead>\n",
       "  <tbody>\n",
       "    <tr>\n",
       "      <th>A</th>\n",
       "      <td>2240.595797</td>\n",
       "      <td>0.0</td>\n",
       "      <td>False</td>\n",
       "    </tr>\n",
       "    <tr>\n",
       "      <th>B</th>\n",
       "      <td>7797.399212</td>\n",
       "      <td>0.0</td>\n",
       "      <td>False</td>\n",
       "    </tr>\n",
       "  </tbody>\n",
       "</table>\n",
       "</div>"
      ],
      "text/plain": [
       "             W  pval  normal\n",
       "A  2240.595797   0.0   False\n",
       "B  7797.399212   0.0   False"
      ]
     },
     "execution_count": 234,
     "metadata": {},
     "output_type": "execute_result"
    }
   ],
   "source": [
    "# Также проверим нормальность распределений для активных пользователей с помощью теста Д'Агостино-Пирсона (выборкка > 5000)\n",
    "pg.normality(data=df_active, dv=\"rev\", group=\"grp\", method=\"normaltest\")"
   ]
  },
  {
   "cell_type": "code",
   "execution_count": 235,
   "metadata": {},
   "outputs": [
    {
     "data": {
      "text/html": [
       "<div>\n",
       "<style scoped>\n",
       "    .dataframe tbody tr th:only-of-type {\n",
       "        vertical-align: middle;\n",
       "    }\n",
       "\n",
       "    .dataframe tbody tr th {\n",
       "        vertical-align: top;\n",
       "    }\n",
       "\n",
       "    .dataframe thead th {\n",
       "        text-align: right;\n",
       "    }\n",
       "</style>\n",
       "<table border=\"1\" class=\"dataframe\">\n",
       "  <thead>\n",
       "    <tr style=\"text-align: right;\">\n",
       "      <th></th>\n",
       "      <th>W</th>\n",
       "      <th>pval</th>\n",
       "      <th>normal</th>\n",
       "    </tr>\n",
       "  </thead>\n",
       "  <tbody>\n",
       "    <tr>\n",
       "      <th>A</th>\n",
       "      <td>0.735324</td>\n",
       "      <td>1.498682e-10</td>\n",
       "      <td>False</td>\n",
       "    </tr>\n",
       "    <tr>\n",
       "      <th>B</th>\n",
       "      <td>0.854724</td>\n",
       "      <td>1.543702e-16</td>\n",
       "      <td>False</td>\n",
       "    </tr>\n",
       "  </tbody>\n",
       "</table>\n",
       "</div>"
      ],
      "text/plain": [
       "          W          pval  normal\n",
       "A  0.735324  1.498682e-10   False\n",
       "B  0.854724  1.543702e-16   False"
      ]
     },
     "execution_count": 235,
     "metadata": {},
     "output_type": "execute_result"
    }
   ],
   "source": [
    "# Проверим нормальность распределений для активных пользователяй c оплатой с помощью теста Шапиро-Уилка (выборка < 5000)\n",
    "pg.normality(data=df_active_w_check, dv=\"rev\", group=\"grp\", method=\"shapiro\")"
   ]
  },
  {
   "cell_type": "markdown",
   "metadata": {},
   "source": [
    "Статистические гипотезы у тестов нормальности следующие: H0 - ГС, из которой взята эта выборка, распределена нормально; H1 - ГС, из которой взята эта выборка, распределена не нормально. Поскольку p-value в наших случаях практически нулевое мы можем отвергнуть нулевую гипотезу, что говорит о ненормальности данных. Тот же результат показывают и QQ-графики."
   ]
  },
  {
   "cell_type": "code",
   "execution_count": 236,
   "metadata": {},
   "outputs": [
    {
     "data": {
      "text/html": [
       "<div>\n",
       "<style scoped>\n",
       "    .dataframe tbody tr th:only-of-type {\n",
       "        vertical-align: middle;\n",
       "    }\n",
       "\n",
       "    .dataframe tbody tr th {\n",
       "        vertical-align: top;\n",
       "    }\n",
       "\n",
       "    .dataframe thead th {\n",
       "        text-align: right;\n",
       "    }\n",
       "</style>\n",
       "<table border=\"1\" class=\"dataframe\">\n",
       "  <thead>\n",
       "    <tr style=\"text-align: right;\">\n",
       "      <th></th>\n",
       "      <th>W</th>\n",
       "      <th>pval</th>\n",
       "      <th>equal_var</th>\n",
       "    </tr>\n",
       "  </thead>\n",
       "  <tbody>\n",
       "    <tr>\n",
       "      <th>levene</th>\n",
       "      <td>1.501461</td>\n",
       "      <td>0.220481</td>\n",
       "      <td>True</td>\n",
       "    </tr>\n",
       "  </tbody>\n",
       "</table>\n",
       "</div>"
      ],
      "text/plain": [
       "               W      pval  equal_var\n",
       "levene  1.501461  0.220481       True"
      ]
     },
     "execution_count": 236,
     "metadata": {},
     "output_type": "execute_result"
    }
   ],
   "source": [
    "# Проверим равенство дисперсий между группами для активных пользователей применив тест Левена (кассический тест равенства дисперсий)\n",
    "pg.homoscedasticity(data=df_active, dv=\"rev\", group=\"grp\")"
   ]
  },
  {
   "cell_type": "code",
   "execution_count": 237,
   "metadata": {},
   "outputs": [
    {
     "data": {
      "text/html": [
       "<div>\n",
       "<style scoped>\n",
       "    .dataframe tbody tr th:only-of-type {\n",
       "        vertical-align: middle;\n",
       "    }\n",
       "\n",
       "    .dataframe tbody tr th {\n",
       "        vertical-align: top;\n",
       "    }\n",
       "\n",
       "    .dataframe thead th {\n",
       "        text-align: right;\n",
       "    }\n",
       "</style>\n",
       "<table border=\"1\" class=\"dataframe\">\n",
       "  <thead>\n",
       "    <tr style=\"text-align: right;\">\n",
       "      <th></th>\n",
       "      <th>W</th>\n",
       "      <th>pval</th>\n",
       "      <th>equal_var</th>\n",
       "    </tr>\n",
       "  </thead>\n",
       "  <tbody>\n",
       "    <tr>\n",
       "      <th>levene</th>\n",
       "      <td>3.075682</td>\n",
       "      <td>0.080257</td>\n",
       "      <td>True</td>\n",
       "    </tr>\n",
       "  </tbody>\n",
       "</table>\n",
       "</div>"
      ],
      "text/plain": [
       "               W      pval  equal_var\n",
       "levene  3.075682  0.080257       True"
      ]
     },
     "execution_count": 237,
     "metadata": {},
     "output_type": "execute_result"
    }
   ],
   "source": [
    "# Проверим равенство дисперсий между группами для активных пользователяй, которые совершали оплаты\n",
    "pg.homoscedasticity(data=df_active_w_check, dv=\"rev\", group=\"grp\")"
   ]
  },
  {
   "cell_type": "markdown",
   "metadata": {},
   "source": [
    "Статистические гипотезы у теста Левена: H0 - дисперсии в ГС не различаются, H1 - дисперсии в ГС различаются. В обоих наших тестах P-value больше 0.05, что не позволяет нам отклонить гипотезу и говорит о равенстве дисперсий."
   ]
  },
  {
   "cell_type": "markdown",
   "metadata": {},
   "source": [
    "#### Выбор стат.критериев:\n",
    "* ARPU и ARPPU (количественные метрики) - данные не подчиняются нормальному распределению, но имеют одинаковые дисперсии и достаточно большие выборки, поэтому для сравнения можно использовать t-тест.\n",
    "* CR (качественная метрика) для оценки используем Хи‑Квадрат."
   ]
  },
  {
   "cell_type": "code",
   "execution_count": 238,
   "metadata": {},
   "outputs": [
    {
     "data": {
      "text/html": [
       "<div>\n",
       "<style scoped>\n",
       "    .dataframe tbody tr th:only-of-type {\n",
       "        vertical-align: middle;\n",
       "    }\n",
       "\n",
       "    .dataframe tbody tr th {\n",
       "        vertical-align: top;\n",
       "    }\n",
       "\n",
       "    .dataframe thead th {\n",
       "        text-align: right;\n",
       "    }\n",
       "</style>\n",
       "<table border=\"1\" class=\"dataframe\">\n",
       "  <thead>\n",
       "    <tr style=\"text-align: right;\">\n",
       "      <th></th>\n",
       "      <th>T</th>\n",
       "      <th>dof</th>\n",
       "      <th>alternative</th>\n",
       "      <th>p-val</th>\n",
       "      <th>CI95%</th>\n",
       "      <th>cohen-d</th>\n",
       "      <th>BF10</th>\n",
       "      <th>power</th>\n",
       "    </tr>\n",
       "  </thead>\n",
       "  <tbody>\n",
       "    <tr>\n",
       "      <th>T-test</th>\n",
       "      <td>-1.286374</td>\n",
       "      <td>2416.748043</td>\n",
       "      <td>two-sided</td>\n",
       "      <td>0.198436</td>\n",
       "      <td>[-27.04, 5.62]</td>\n",
       "      <td>0.034597</td>\n",
       "      <td>0.073</td>\n",
       "      <td>0.231965</td>\n",
       "    </tr>\n",
       "  </tbody>\n",
       "</table>\n",
       "</div>"
      ],
      "text/plain": [
       "               T          dof alternative     p-val           CI95%   cohen-d  \\\n",
       "T-test -1.286374  2416.748043   two-sided  0.198436  [-27.04, 5.62]  0.034597   \n",
       "\n",
       "         BF10     power  \n",
       "T-test  0.073  0.231965  "
      ]
     },
     "execution_count": 238,
     "metadata": {},
     "output_type": "execute_result"
    }
   ],
   "source": [
    "# Гипотезы для оценки ARPU: H0 - средняя выручка в тестовой и контрольной группах равна, Н1 - средняя выручка в тестовой и контрольной группах не равна.    \n",
    "ttest_arpu = pg.ttest(df_active.query('grp == \"A\"').rev, df_active.query('grp == \"B\"').rev)\n",
    "ttest_arpu"
   ]
  },
  {
   "cell_type": "code",
   "execution_count": 239,
   "metadata": {},
   "outputs": [
    {
     "name": "stdout",
     "output_type": "stream",
     "text": [
      "Мы не можем отвергнуть нулевую гипотезу на уровне значимости 0.05. Разница в средней выручке на пользователя не является значимой p-value: 0.1984\n"
     ]
    }
   ],
   "source": [
    "print(f'Мы не можем отвергнуть нулевую гипотезу на уровне значимости 0.05.'\n",
    "    f' Разница в средней выручке на пользователя не является значимой p-value: {ttest_arpu[\"p-val\"].values[0]:.4f}')"
   ]
  },
  {
   "cell_type": "code",
   "execution_count": 240,
   "metadata": {},
   "outputs": [
    {
     "data": {
      "text/html": [
       "<div>\n",
       "<style scoped>\n",
       "    .dataframe tbody tr th:only-of-type {\n",
       "        vertical-align: middle;\n",
       "    }\n",
       "\n",
       "    .dataframe tbody tr th {\n",
       "        vertical-align: top;\n",
       "    }\n",
       "\n",
       "    .dataframe thead th {\n",
       "        text-align: right;\n",
       "    }\n",
       "</style>\n",
       "<table border=\"1\" class=\"dataframe\">\n",
       "  <thead>\n",
       "    <tr style=\"text-align: right;\">\n",
       "      <th></th>\n",
       "      <th>T</th>\n",
       "      <th>dof</th>\n",
       "      <th>alternative</th>\n",
       "      <th>p-val</th>\n",
       "      <th>CI95%</th>\n",
       "      <th>cohen-d</th>\n",
       "      <th>BF10</th>\n",
       "      <th>power</th>\n",
       "    </tr>\n",
       "  </thead>\n",
       "  <tbody>\n",
       "    <tr>\n",
       "      <th>T-test</th>\n",
       "      <td>-2.86169</td>\n",
       "      <td>106.981668</td>\n",
       "      <td>two-sided</td>\n",
       "      <td>0.00507</td>\n",
       "      <td>[-548.94, -99.64]</td>\n",
       "      <td>0.39646</td>\n",
       "      <td>6.536</td>\n",
       "      <td>0.878211</td>\n",
       "    </tr>\n",
       "  </tbody>\n",
       "</table>\n",
       "</div>"
      ],
      "text/plain": [
       "              T         dof alternative    p-val              CI95%  cohen-d  \\\n",
       "T-test -2.86169  106.981668   two-sided  0.00507  [-548.94, -99.64]  0.39646   \n",
       "\n",
       "         BF10     power  \n",
       "T-test  6.536  0.878211  "
      ]
     },
     "execution_count": 240,
     "metadata": {},
     "output_type": "execute_result"
    }
   ],
   "source": [
    "# Гипотезы для оценки ARPPU: H0 - средняя выручка на платящего пользователя в тестовой и контрольной группах равна, Н1 - средняя выручка на платящего пользователя в тестовой и контрольной группах не равна.    \n",
    "ttest_arppu = pg.ttest(df_active_w_check.query('grp == \"A\"').rev, df_active_w_check.query('grp == \"B\"').rev)\n",
    "ttest_arppu"
   ]
  },
  {
   "cell_type": "code",
   "execution_count": 241,
   "metadata": {},
   "outputs": [
    {
     "name": "stdout",
     "output_type": "stream",
     "text": [
      "Мы можем отвергнуть нулевую гипотезу на уровне значимости 0.05. Разница в средней выручке на на платящего пользователя является значимой p-value: 0.0051\n"
     ]
    }
   ],
   "source": [
    "print(f'Мы можем отвергнуть нулевую гипотезу на уровне значимости 0.05.'\n",
    "      \n",
    "      f' Разница в средней выручке на на платящего пользователя является значимой p-value: {ttest_arppu[\"p-val\"].values[0]:.4f}')"
   ]
  },
  {
   "cell_type": "code",
   "execution_count": 253,
   "metadata": {},
   "outputs": [
    {
     "name": "stdout",
     "output_type": "stream",
     "text": [
      "Хи-квадрат 0.5 p-value: 0.4863.\n"
     ]
    }
   ],
   "source": [
    "# Гипотезы для оценки CR: H0 - коверсия в тестовой и контрольной группах равна, Н1 - конверсия в тестовой и контрольной группах не равна.\n",
    "ct = [\n",
    "    [df_active_w_check.query('grp == \"A\"').shape[0],\n",
    "     df_active.query('grp == \"A\"').shape[0] - df_active_w_check.query('grp == \"A\"').shape[0]],\n",
    "    [df_active_w_check.query('grp == \"B\"').shape[0],\n",
    "     df_active.query('grp == \"B\"').shape[0] - df_active_w_check.query('grp == \"B\"').shape[0]]\n",
    "]\n",
    "chi2, p, dof, expected = chi2_contingency(ct)\n",
    "print(f'Хи-квадрат {chi2:.1f} p-value: {p:.4f}.')"
   ]
  },
  {
   "cell_type": "code",
   "execution_count": 243,
   "metadata": {},
   "outputs": [
    {
     "name": "stdout",
     "output_type": "stream",
     "text": [
      "Не отклоняем H0. Коверсия в тестовой и контрольной группах равна\n"
     ]
    }
   ],
   "source": [
    "if p <= 0.05:\n",
    "    print('Отклоняем H0. Коверсия в тестовой и контрольной группах не равна')\n",
    "else:\n",
    "    print('Не отклоняем H0. Коверсия в тестовой и контрольной группах равна')"
   ]
  },
  {
   "cell_type": "markdown",
   "metadata": {},
   "source": [
    "### Выводы\n",
    "\n",
    "* ARPU средняя выручка на пользователя в группе A: 47.35, в группе B: 58.06, значимых различий не обнаружено (p-val = 0.198).\n",
    "* ARPPU средняя выручка на платящего пользователя в группе A: 933.59, в группе B: 1257.88, есть значимые различия (p-val = 0.0051).\n",
    "* CR конверсия в группе A: 5.07%, в группе B: 4.62%, значимых различий не обнаружено (p-val = 0.486).\n",
    "\n",
    "Стоит ли запускать новую механику на всех пользователей?\n",
    "\n",
    "Для запуска новой механики оплаты необходимы уточнения или проверка на баги. Как мы видим она не значимо повлияла на конверсию в покупку, но при этом заметно увеличила среднюю выручку у платящего пользователя. Возможно новая механика ценнее именно для платящих пользователей, например, в виде нового пакета услуг.\n",
    "\n",
    "Рекомендации:\n",
    "* Можно внедрить новую систему оплаты, если стратегия компании — максимизация выручки от платящих пользователей.\n",
    "* Сегментировать пользователей: возможно, новая система работает лучше на лояльных клиентах/премиум клиентах.\n"
   ]
  },
  {
   "cell_type": "markdown",
   "metadata": {},
   "source": [
    "### Задание 2. SQL\n",
    "#### 2.1 Очень усердные ученики.\n",
    "#### 2.1.1 Условие\n",
    "Образовательные курсы состоят из различных уроков, каждый из которых состоит из нескольких маленьких заданий. Каждое такое маленькое задание называется \"горошиной\".\n",
    "Назовём очень усердным учеником того пользователя, который хотя бы раз за текущий месяц правильно решил 20 горошин.\n",
    "\n",
    "#### 2.1.2 Задача\n",
    "Дана таблица peas.\n",
    "Необходимо написать оптимальный запрос, который даст информацию о количестве очень усердных студентов.NB! Под усердным студентом мы понимаем студента, который правильно решил 20 задач за текущий месяц.\n",
    "#### 2.2 Оптимизация воронки\n",
    "#### 2.2.1 Условие\n",
    "Образовательная платформа предлагает пройти студентам курсы по модели trial: студент может решить бесплатно лишь 30 горошин в день. Для неограниченного количества заданий в определенной дисциплине студенту необходимо приобрести полный доступ. Команда провела эксперимент, где был протестирован новый экран оплаты.\n",
    "#### 2.2.2 Задача\n",
    "Дана таблицы: peas, studs и final_project_check.\n",
    "Необходимо в одном запросе выгрузить следующую информацию о группах пользователей:\n",
    "* ARPU \n",
    "* ARPAU \n",
    "* CR в покупку \n",
    "* СR активного пользователя в покупку \n",
    "* CR пользователя из активности по математике (subject = ’math’) в покупку курса по математике\n",
    "ARPU считается относительно всех пользователей, попавших в группы.\n",
    "Активным считается пользователь, за все время решивший больше 10 задач правильно в любых дисциплинах.\n",
    "Активным по математике считается пользователь, за все время решивший 2 или больше задач правильно по математике."
   ]
  },
  {
   "cell_type": "markdown",
   "metadata": {},
   "source": [
    "#### Решение задачи 2.1.2: \n",
    "```query= \"\"\"\n",
    "SELECT COUNT(*)\n",
    "    FROM (SELECT st_id \n",
    "        FROM peas\n",
    "        GROUP BY st_id\n",
    "        HAVING SUM(correct :: int) >= 20) as cnt_true_id \"\"\"\n",
    "```"
   ]
  },
  {
   "cell_type": "markdown",
   "metadata": {},
   "source": [
    "#### Решение задачи 2.2.2:\n",
    "```query = \"\"\"\n",
    "  -- Покупки по всем студентам \n",
    "WITH cte_all AS (\n",
    "    SELECT \n",
    "        st_id, \n",
    "        SUM(money) AS total_money,\n",
    "        COUNT(*) AS purchase_count,\n",
    "        MAX(CASE WHEN subject = 'math' THEN 1 ELSE 0 END) AS with_math\n",
    "    FROM final_project_check\n",
    "    GROUP BY st_id\n",
    "),```\n",
    "\n",
    "  ```-- Активные пользователи (решили более 10 задач правильно)\n",
    "cte_active_users AS (\n",
    "    SELECT \n",
    "        st_id\n",
    "    FROM peas\n",
    "    GROUP BY st_id\n",
    "    HAVING SUM(correct :: int) > 10\n",
    "),```\n",
    "\n",
    " ``` -- Активные по математике (решившие ≥2 задачи по математике)\n",
    "cte_active_math AS (\n",
    "    SELECT \n",
    "        st_id\n",
    "    FROM peas\n",
    "    WHERE subject = 'math'\n",
    "    GROUP BY st_id\n",
    "    HAVING SUM(correct :: int) >= 2\n",
    "),```\n",
    "\n",
    " ```-- Основной набор данных со всеми метками\n",
    "cte_metrics AS (\n",
    "    SELECT \n",
    "        s.st_id,\n",
    "        s.test_grp,\n",
    "        COALESCE(c.total_money, 0) AS revenue,\n",
    "        CASE WHEN c.st_id IS NOT NULL THEN 1 ELSE 0 END AS is_buyer,\n",
    "        CASE WHEN a.st_id IS NOT NULL THEN 1 ELSE 0 END AS is_active,\n",
    "        CASE WHEN am.st_id IS NOT NULL THEN 1 ELSE 0 END AS is_active_math,\n",
    "        COALESCE(c.bought_math, 0) AS with_math\n",
    "    FROM studs s\n",
    "    LEFT JOIN cte_all c ON s.st_id = c.st_id\n",
    "    LEFT JOIN cte_active_users a ON s.st_id = a.st_id\n",
    "    LEFT JOIN cte_active_math am ON s.st_id = am.st_id\n",
    ")```\n",
    "```-- Расчет метрик\n",
    "SELECT\n",
    "    test_grp,\n",
    "    SUM(revenue)/ NULLIF(COUNT(st_id), 0) AS arpu,\n",
    "    SUM(revenue) / NULLIF(SUM(is_active), 0) AS arpau,\n",
    "    SUM(is_buyer)::numeric / COUNT(*) AS cr_all,\n",
    "    SUM(CASE WHEN is_active = 1 THEN is_buyer ELSE 0 END)::numeric / NULLIF(SUM(is_active), 0) AS cr_active,\n",
    "    SUM(CASE WHEN is_active_math = 1 THEN with_math ELSE 0 END)::numeric / NULLIF(SUM(is_active_math), 0) AS cr_math\n",
    "    FROM cte_metrics\n",
    "GROUP BY test_grp \"\"\"\n",
    "```\n"
   ]
  },
  {
   "cell_type": "markdown",
   "metadata": {},
   "source": [
    "### Задание 3. Python\n",
    "#### 3.1 Задача\n",
    "\n",
    "1. Реализуйте функцию, которая будет автоматически подгружать информацию из дополнительного файла groups_add.csv (заголовки могут отличаться) и на основании дополнительных параметров пересчитывать метрики.\n",
    "2. Реализуйте функцию, которая будет строить графики по получаемым метрикам."
   ]
  },
  {
   "cell_type": "code",
   "execution_count": 244,
   "metadata": {},
   "outputs": [],
   "source": [
    "def add_file_and_update_metric(add_url):\n",
    "    \"\"\"\n",
    "    Подгружает информацию из дополнительного файла groups_add.csv\n",
    "    (заголовки могут отличаться) и пересчитывает метрики.\n",
    "    \"\"\"\n",
    "    # Загрузка данных\n",
    "    groups = pd.read_csv(download_file(url_groups), sep=';')    \n",
    "    active_studs = pd.read_csv(download_file(url_active_studs), sep=';')\n",
    "    checks = pd.read_csv(download_file(url_checks), sep=';')\n",
    "    groups_add = pd.read_csv(download_file(add_url), sep=',')\n",
    "    \n",
    "    # Приведение названий столбцов\n",
    "    groups.columns = ['student_id', 'grp']\n",
    "    groups_add.columns = ['student_id', 'grp']\n",
    "    \n",
    "    # Объединение групп и датафреймов\n",
    "    df = pd.concat([groups, groups_add], ignore_index=True)\n",
    "    df = df.merge(checks, on='student_id', how='left').fillna(0)\n",
    "    \n",
    "    # Отметка активных пользователей\n",
    "    df['is_active'] = df['student_id'].isin(active_studs['student_id'])\n",
    "    df_active = df[df['is_active']]\n",
    "    \n",
    "    # Расчёт метрик\n",
    "    metrics = []\n",
    "    for group in df_active['grp'].unique():\n",
    "        group_df = df_active[df_active['grp'] == group]\n",
    "        group_with_rev = group_df[group_df['rev'] != 0]\n",
    "        \n",
    "        cr = round((len(group_with_rev) / len(group_df) * 100), 2)\n",
    "        arpu = round(group_df['rev'].sum() / group_df['student_id'].nunique(), 2)\n",
    "        arppu = round(group_with_rev['rev'].sum() / group_with_rev['student_id'].nunique(), 2)\n",
    "        metrics.append({\n",
    "            'group': group,\n",
    "            'CR%': cr,\n",
    "            'ARPU': arpu,\n",
    "            'ARPPU': arppu\n",
    "            })\n",
    "\n",
    "    return pd.DataFrame(metrics)\n",
    "    "
   ]
  },
  {
   "cell_type": "code",
   "execution_count": 245,
   "metadata": {},
   "outputs": [
    {
     "data": {
      "text/html": [
       "<div>\n",
       "<style scoped>\n",
       "    .dataframe tbody tr th:only-of-type {\n",
       "        vertical-align: middle;\n",
       "    }\n",
       "\n",
       "    .dataframe tbody tr th {\n",
       "        vertical-align: top;\n",
       "    }\n",
       "\n",
       "    .dataframe thead th {\n",
       "        text-align: right;\n",
       "    }\n",
       "</style>\n",
       "<table border=\"1\" class=\"dataframe\">\n",
       "  <thead>\n",
       "    <tr style=\"text-align: right;\">\n",
       "      <th></th>\n",
       "      <th>group</th>\n",
       "      <th>CR%</th>\n",
       "      <th>ARPU</th>\n",
       "      <th>ARPPU</th>\n",
       "    </tr>\n",
       "  </thead>\n",
       "  <tbody>\n",
       "    <tr>\n",
       "      <th>0</th>\n",
       "      <td>A</td>\n",
       "      <td>5.07</td>\n",
       "      <td>47.35</td>\n",
       "      <td>933.59</td>\n",
       "    </tr>\n",
       "    <tr>\n",
       "      <th>1</th>\n",
       "      <td>B</td>\n",
       "      <td>4.62</td>\n",
       "      <td>58.06</td>\n",
       "      <td>1257.88</td>\n",
       "    </tr>\n",
       "  </tbody>\n",
       "</table>\n",
       "</div>"
      ],
      "text/plain": [
       "  group   CR%   ARPU    ARPPU\n",
       "0     A  5.07  47.35   933.59\n",
       "1     B  4.62  58.06  1257.88"
      ]
     },
     "execution_count": 245,
     "metadata": {},
     "output_type": "execute_result"
    }
   ],
   "source": [
    "add_url = url_groups_add\n",
    "add_file_and_update_metric(add_url)"
   ]
  },
  {
   "cell_type": "code",
   "execution_count": 246,
   "metadata": {},
   "outputs": [],
   "source": [
    "def metrics_chart(df):\n",
    "    \"\"\"\n",
    "    Строит графики barplot по полученным метрикам:\n",
    "    CR, ARPU, ARPPU.\n",
    "    \"\"\"\n",
    "    fig, axes = plt.subplots(nrows=1, ncols=3) \n",
    "    df.plot(x='group', y='CR%', kind='bar', ax=axes[0], legend=False, title='CR%')\n",
    "    df.plot(x='group', y='ARPU', kind='bar', ax=axes[1], legend=False, title='ARPU')\n",
    "    df.plot(x='group', y='ARPPU', kind='bar', ax=axes[2], legend=False, title='ARPPU') \n",
    "    for ax in axes:\n",
    "        ax.set_xlabel(\"Группы\")\n",
    "        ax.set_xticklabels(df['group'], rotation=0)\n",
    "    plt.show()"
   ]
  },
  {
   "cell_type": "code",
   "execution_count": 247,
   "metadata": {},
   "outputs": [
    {
     "data": {
      "image/png": "[encoded data removed]",
      "text/plain": [
       "<Figure size 1080x504 with 3 Axes>"
      ]
     },
     "metadata": {},
     "output_type": "display_data"
    }
   ],
   "source": [
    "metrics_chart(add_file_and_update_metric(add_url))"
   ]
  },
  {
   "cell_type": "code",
   "execution_count": null,
   "metadata": {},
   "outputs": [],
   "source": []
  }
 ],
 "metadata": {
  "kernelspec": {
   "display_name": "Python 3",
   "language": "python",
   "name": "python3"
  },
  "language_info": {
   "codemirror_mode": {
    "name": "ipython",
    "version": 3
   },
   "file_extension": ".py",
   "mimetype": "text/x-python",
   "name": "python",
   "nbconvert_exporter": "python",
   "pygments_lexer": "ipython3",
   "version": "3.7.3"
  }
 },
 "nbformat": 4,
 "nbformat_minor": 4
}
